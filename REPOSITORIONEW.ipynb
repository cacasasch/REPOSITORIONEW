{
  "nbformat": 4,
  "nbformat_minor": 0,
  "metadata": {
    "colab": {
      "provenance": []
    },
    "kernelspec": {
      "name": "python3",
      "display_name": "Python 3"
    },
    "language_info": {
      "name": "python"
    }
  },
  "cells": [
    {
      "cell_type": "code",
      "execution_count": null,
      "metadata": {
        "id": "fUDxvi43AAUy"
      },
      "outputs": [],
      "source": [
        "#GIT y Mercurial son sistemas de control de versiones distribuidos, pero difieren en su enfoque y funcionamiento. GIT, creado por Linus Torvalds, es muy flexible, potente y ampliamente usado, aunque su curva de aprendizaje puede ser más pronunciada debido a su complejidad. Mercurial, por otro lado, es más sencillo y fácil de usar, con una interfaz más amigable, pero ofrece menos opciones avanzadas. Mientras GIT maneja cambios como un conjunto de \"snapshots\" del repositorio, Mercurial sigue un enfoque más lineal basado en \"changesets\". Además, GIT es más popular en grandes proyectos colaborativos, mientras que Mercurial es apreciado por su rendimiento en proyectos medianos o con usuarios menos experimentados."
      ]
    }
  ]
}